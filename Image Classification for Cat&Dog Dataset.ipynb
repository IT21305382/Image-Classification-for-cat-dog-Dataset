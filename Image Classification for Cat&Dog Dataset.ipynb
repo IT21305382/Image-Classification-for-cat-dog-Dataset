{
  "nbformat": 4,
  "nbformat_minor": 0,
  "metadata": {
    "colab": {
      "provenance": []
    },
    "kernelspec": {
      "name": "python3",
      "display_name": "Python 3"
    },
    "language_info": {
      "name": "python"
    }
  },
  "cells": [
    {
      "cell_type": "code",
      "execution_count": null,
      "metadata": {
        "colab": {
          "base_uri": "https://localhost:8080/"
        },
        "id": "gIhZn3AVrHXk",
        "outputId": "aaa2d2c7-007e-491e-a909-442a302217f8"
      },
      "outputs": [
        {
          "output_type": "stream",
          "name": "stdout",
          "text": [
            "Mounted at /content/drive\n"
          ]
        }
      ],
      "source": [
        "from google.colab import drive\n",
        "drive.mount('/content/drive')"
      ]
    },
    {
      "cell_type": "code",
      "source": [
        "train_path = '/content/drive/MyDrive/MLOM_LAB4/Cat&Dog Dataset/Training_data'\n",
        "test_path = '/content/drive/MyDrive/MLOM_LAB4/Cat&Dog Dataset/Testing_data'"
      ],
      "metadata": {
        "id": "kYU8cHGkrQaJ"
      },
      "execution_count": null,
      "outputs": []
    },
    {
      "cell_type": "code",
      "source": [
        "import tensorflow as tf\n",
        "from tensorflow import keras\n",
        "from tensorflow.keras.regularizers import l2"
      ],
      "metadata": {
        "id": "rXhKZPcWrZAI"
      },
      "execution_count": null,
      "outputs": []
    },
    {
      "cell_type": "code",
      "source": [
        "model = tf.keras.models.Sequential([\n",
        "    # Note that input shape is the desired size of the image 300x300 with 3 bytes color\n",
        "    #this is the first convolution\n",
        "    tf.keras.layers.Conv2D(filters=16,kernel_size = 3,activation = 'relu',input_shape=(300,300,3)),\n",
        "    tf.keras.layers.MaxPooling2D(2,2),\n",
        "    #this is the second convolution\n",
        "    #tf.keras.layers.Conv2D(filters=16,kernel_size = 3,activation = 'relu'),\n",
        "    #tf.keras.layers.MaxPooling2D(pool_size = 2),\n",
        "    #this is the third convolution\n",
        "    tf.keras.layers.Conv2D(filters=32,kernel_size = 3,activation = 'relu'),\n",
        "    tf.keras.layers.MaxPooling2D(pool_size = 2),\n",
        "    #tf.keras.layers.Dropout(0.5),\n",
        "\n",
        "    #this is the fourth convolution\n",
        "    tf.keras.layers.Conv2D(filters=64,kernel_size = 3,activation = 'relu'),\n",
        "    tf.keras.layers.MaxPooling2D(pool_size = 2),\n",
        "\n",
        "    tf.keras.layers.Dropout(0.2),\n",
        "    #this is the fifth convolution\n",
        "    tf.keras.layers.Conv2D(filters=64,kernel_size = 3,activation = 'relu'),\n",
        "    tf.keras.layers.MaxPooling2D(pool_size = 2),\n",
        "    # Flatten the result to feed into a Dnn\n",
        "    tf.keras.layers.Flatten(),\n",
        "    # 512 neuron hidden layer\n",
        "    tf.keras.layers.Dense(512,activation='relu', kernel_regularizer=l2(0.01)),\n",
        "    tf.keras.layers.BatchNormalization(),\n",
        "    tf.keras.layers.Dropout(0.2),\n",
        "    # Only 1 output neuron. It will contain a value from 0-1 where 0 for 1 class('cat') and 1 for the other\n",
        "    tf.keras.layers.Dense(1,activation='sigmoid')\n",
        "    ])\n",
        "\n"
      ],
      "metadata": {
        "id": "H9RHwetGrbjp"
      },
      "execution_count": null,
      "outputs": []
    },
    {
      "cell_type": "code",
      "source": [
        "model.summary()"
      ],
      "metadata": {
        "colab": {
          "base_uri": "https://localhost:8080/"
        },
        "id": "7DiwNivVsWc0",
        "outputId": "ca2e69f7-43eb-40ac-f85e-887d8963cdbe"
      },
      "execution_count": null,
      "outputs": [
        {
          "output_type": "stream",
          "name": "stdout",
          "text": [
            "Model: \"sequential_1\"\n",
            "_________________________________________________________________\n",
            " Layer (type)                Output Shape              Param #   \n",
            "=================================================================\n",
            " conv2d_4 (Conv2D)           (None, 298, 298, 16)      448       \n",
            "                                                                 \n",
            " max_pooling2d_4 (MaxPoolin  (None, 149, 149, 16)      0         \n",
            " g2D)                                                            \n",
            "                                                                 \n",
            " conv2d_5 (Conv2D)           (None, 147, 147, 32)      4640      \n",
            "                                                                 \n",
            " max_pooling2d_5 (MaxPoolin  (None, 73, 73, 32)        0         \n",
            " g2D)                                                            \n",
            "                                                                 \n",
            " conv2d_6 (Conv2D)           (None, 71, 71, 64)        18496     \n",
            "                                                                 \n",
            " max_pooling2d_6 (MaxPoolin  (None, 35, 35, 64)        0         \n",
            " g2D)                                                            \n",
            "                                                                 \n",
            " dropout_1 (Dropout)         (None, 35, 35, 64)        0         \n",
            "                                                                 \n",
            " conv2d_7 (Conv2D)           (None, 33, 33, 64)        36928     \n",
            "                                                                 \n",
            " max_pooling2d_7 (MaxPoolin  (None, 16, 16, 64)        0         \n",
            " g2D)                                                            \n",
            "                                                                 \n",
            " flatten_1 (Flatten)         (None, 16384)             0         \n",
            "                                                                 \n",
            " dense_2 (Dense)             (None, 512)               8389120   \n",
            "                                                                 \n",
            " batch_normalization_1 (Bat  (None, 512)               2048      \n",
            " chNormalization)                                                \n",
            "                                                                 \n",
            " dropout_2 (Dropout)         (None, 512)               0         \n",
            "                                                                 \n",
            " dense_3 (Dense)             (None, 1)                 513       \n",
            "                                                                 \n",
            "=================================================================\n",
            "Total params: 8452193 (32.24 MB)\n",
            "Trainable params: 8451169 (32.24 MB)\n",
            "Non-trainable params: 1024 (4.00 KB)\n",
            "_________________________________________________________________\n"
          ]
        }
      ]
    },
    {
      "cell_type": "code",
      "source": [
        "from tensorflow.keras.callbacks import LearningRateScheduler\n",
        "\n",
        "# Define a learning rate scheduler function\n",
        "def lr_scheduler(epoch):\n",
        "    return 0.001 * (0.1 ** (epoch // 10))\n",
        "\n",
        "# Create a learning rate scheduler callback\n",
        "lr_callback = LearningRateScheduler(lr_scheduler)\n",
        "\n",
        "lr_schedule = tf.keras.optimizers.schedules.InverseTimeDecay(\n",
        "  0.001,\n",
        "  decay_steps=20*1000,#20->steps_per_epoch\n",
        "  decay_rate=1,\n",
        "  staircase=False)\n",
        "\n",
        "def get_optimizer():\n",
        "  return tf.keras.optimizers.Adam(lr_schedule)"
      ],
      "metadata": {
        "id": "EgmFxdLbi7bf"
      },
      "execution_count": null,
      "outputs": []
    },
    {
      "cell_type": "code",
      "source": [
        "#optimizer = tf.keras.optimizers.Adam(learning_rate = 0.001)\n",
        "optimizer = get_optimizer()\n",
        "model.compile(optimizer = optimizer,\n",
        "              loss = 'binary_crossentropy', #binary_crossentropy because our class mode is binary(output is dog or cat)\n",
        "              metrics=['accuracy'])"
      ],
      "metadata": {
        "id": "h_XHZtlFsXHL"
      },
      "execution_count": null,
      "outputs": []
    },
    {
      "cell_type": "code",
      "source": [
        "from tensorflow.keras.callbacks import ModelCheckpoint\n",
        "\n",
        "from tensorflow.keras.preprocessing.image import ImageDataGenerator\n",
        "train_datagen = ImageDataGenerator(rescale = 1./255) #colors are between 0-255. so we can arrange value 0-1 by dividing 255\n",
        "\n",
        "\n",
        "#Flow training images in batches of 128 using train_datagen generator\n",
        "train_generator = train_datagen.flow_from_directory(train_path,\n",
        "                                                    target_size=(300,300),\n",
        "                                                    batch_size = 32,  #smaller batch_size slow\n",
        "                                                    class_mode = 'binary') #final output is dog or cat.So it binary\n",
        "test_datagen = ImageDataGenerator(rescale = 1./255)\n",
        "test_set = test_datagen.flow_from_directory(test_path,\n",
        "                                            target_size = (300,300),\n",
        "                                            batch_size = 32,\n",
        "                                            class_mode = 'binary')\n",
        "\n"
      ],
      "metadata": {
        "colab": {
          "base_uri": "https://localhost:8080/"
        },
        "id": "DUYSlp9-sgQP",
        "outputId": "485c48ae-ce46-452d-d7ff-446226cb05a0"
      },
      "execution_count": null,
      "outputs": [
        {
          "output_type": "stream",
          "name": "stdout",
          "text": [
            "Found 633 images belonging to 2 classes.\n",
            "Found 200 images belonging to 2 classes.\n"
          ]
        }
      ]
    },
    {
      "cell_type": "code",
      "source": [
        "history = model.fit(\n",
        "    train_generator,\n",
        "    steps_per_epoch=20, # image_count/batch_size = 633/32 = 20\n",
        "    epochs=10, #that means we go through our training dataset 20 times. we can add more epochs then dataset train more.\n",
        "    validation_data=test_set,\n",
        "    validation_steps=7,  # image_count/batch_size = 200/32 =\n",
        "    callbacks=  [lr_callback]\n",
        ")"
      ],
      "metadata": {
        "colab": {
          "base_uri": "https://localhost:8080/"
        },
        "id": "BAsKDCecs3aH",
        "outputId": "e057cbff-d000-4f37-b2f6-967ac6e4cafb"
      },
      "execution_count": null,
      "outputs": [
        {
          "output_type": "stream",
          "name": "stdout",
          "text": [
            "Epoch 1/10\n",
            "20/20 [==============================] - 76s 4s/step - loss: 7.3064 - accuracy: 0.5750 - val_loss: 5.2736 - val_accuracy: 0.5000 - lr: 9.9905e-04\n",
            "Epoch 2/10\n",
            "20/20 [==============================] - 70s 4s/step - loss: 3.7061 - accuracy: 0.6635 - val_loss: 2.8645 - val_accuracy: 0.4950 - lr: 9.9805e-04\n",
            "Epoch 3/10\n",
            "20/20 [==============================] - 80s 4s/step - loss: 2.1931 - accuracy: 0.6951 - val_loss: 2.1114 - val_accuracy: 0.5000 - lr: 9.9706e-04\n",
            "Epoch 4/10\n",
            "20/20 [==============================] - 74s 4s/step - loss: 1.4710 - accuracy: 0.7014 - val_loss: 1.3871 - val_accuracy: 0.5450 - lr: 9.9607e-04\n",
            "Epoch 5/10\n",
            "20/20 [==============================] - 71s 3s/step - loss: 1.1258 - accuracy: 0.7267 - val_loss: 1.2470 - val_accuracy: 0.5050 - lr: 9.9507e-04\n",
            "Epoch 6/10\n",
            "20/20 [==============================] - 71s 4s/step - loss: 0.9010 - accuracy: 0.7678 - val_loss: 1.2311 - val_accuracy: 0.5000 - lr: 9.9409e-04\n",
            "Epoch 7/10\n",
            "20/20 [==============================] - 70s 4s/step - loss: 0.9419 - accuracy: 0.7567 - val_loss: 1.1354 - val_accuracy: 0.5150 - lr: 9.9310e-04\n",
            "Epoch 8/10\n",
            "20/20 [==============================] - 70s 4s/step - loss: 0.7663 - accuracy: 0.8120 - val_loss: 0.9934 - val_accuracy: 0.5500 - lr: 9.9211e-04\n",
            "Epoch 9/10\n",
            "20/20 [==============================] - 72s 4s/step - loss: 0.7041 - accuracy: 0.8452 - val_loss: 1.0112 - val_accuracy: 0.6900 - lr: 9.9113e-04\n",
            "Epoch 10/10\n",
            "20/20 [==============================] - 70s 3s/step - loss: 0.8027 - accuracy: 0.7946 - val_loss: 1.2065 - val_accuracy: 0.5150 - lr: 9.9015e-04\n"
          ]
        }
      ]
    },
    {
      "cell_type": "code",
      "source": [
        "filename = 'best_model.h5'\n",
        "model.load_weights(filename)"
      ],
      "metadata": {
        "id": "eO-YViZ_ikgS"
      },
      "execution_count": null,
      "outputs": []
    },
    {
      "cell_type": "code",
      "source": [
        "loss, accuracy = model.evaluate(test_set)\n",
        "print(f\"Test accuracy: {accuracy * 100:.2f}%\")\n"
      ],
      "metadata": {
        "colab": {
          "base_uri": "https://localhost:8080/"
        },
        "id": "Q_F-4B8cs_io",
        "outputId": "4303816c-4e16-4d4c-f1e1-7ab1c03aae7f"
      },
      "execution_count": null,
      "outputs": [
        {
          "output_type": "stream",
          "name": "stdout",
          "text": [
            "7/7 [==============================] - 3s 449ms/step - loss: 0.9825 - accuracy: 0.7000\n",
            "Test accuracy: 70.00%\n"
          ]
        }
      ]
    },
    {
      "cell_type": "code",
      "source": [
        "loss, accuracy = model.evaluate(train_generator)\n",
        "print(f\"Test accuracy: {accuracy * 100:.2f}%\")\n"
      ],
      "metadata": {
        "id": "YltQkBI80alM",
        "colab": {
          "base_uri": "https://localhost:8080/"
        },
        "outputId": "bf4666be-1929-4ed8-e6fb-8ffe7feb0660"
      },
      "execution_count": null,
      "outputs": [
        {
          "output_type": "stream",
          "name": "stdout",
          "text": [
            "20/20 [==============================] - 12s 586ms/step - loss: 0.3029 - accuracy: 0.9826\n",
            "Test accuracy: 98.26%\n"
          ]
        }
      ]
    },
    {
      "cell_type": "code",
      "source": [],
      "metadata": {
        "id": "6P2DRXB4Uo5g"
      },
      "execution_count": null,
      "outputs": []
    }
  ]
}